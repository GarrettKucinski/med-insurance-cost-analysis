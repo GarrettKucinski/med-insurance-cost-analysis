{
 "cells": [
  {
   "cell_type": "markdown",
   "metadata": {},
   "source": [
    "# U.S. Medical Insurance Costs"
   ]
  },
  {
   "cell_type": "code",
   "execution_count": 41,
   "metadata": {},
   "outputs": [
    {
     "name": "stdout",
     "output_type": "stream",
     "text": [
      "eastern average 14109.532480521804 western average 12346.937377292308\n",
      "northern average 13608.772729912916 southern average 12911.218150768877\n",
      "most lived in region 364\n",
      "smoker avg charge 32050.23183153284\n",
      "non smoker avg charge 8434.268297856204\n"
     ]
    }
   ],
   "source": [
    "# import csv\n",
    "import pandas as pd\n",
    "\n",
    "def get_patient_charges_by(attr):\n",
    "  return lambda value: patients.loc[\n",
    "    (patients[attr] == value), \"charges\"\n",
    "  ]\n",
    "\n",
    "patients = pd.read_csv(\"insurance.csv\")\n",
    "\n",
    "is_smoker = get_patient_charges_by(\"smoker\")\n",
    "smoker_charge_avg = is_smoker(\"yes\").mean()\n",
    "non_smoker_charge_avg = is_smoker(\"no\").mean()\n",
    "most_lived_in_region = patients[\"region\"].value_counts()\n",
    "region_charges_for = get_patient_charges_by(\"region\")\n",
    "\n",
    "se_charges = region_charges_for(\"southeast\")\n",
    "ne_charges = region_charges_for(\"northeast\")\n",
    "\n",
    "sw_charges = region_charges_for(\"southwest\")\n",
    "nw_charges = region_charges_for(\"northwest\")\n",
    "\n",
    "northern_avg = pd.concat([se_charges, sw_charges]).mean()\n",
    "southern_avg = pd.concat([ne_charges, nw_charges]).mean()\n",
    "eastern_avg = pd.concat([se_charges, ne_charges]).mean()\n",
    "western_avg = pd.concat([sw_charges, sw_charges]).mean()\n",
    "\n",
    "print('eastern average', eastern_avg, 'western average', western_avg)\n",
    "print('northern average', northern_avg, 'southern average', southern_avg)\n",
    "print('most lived in region', most_lived_in_region)\n",
    "print('smoker avg charge', smoker_charge_avg)\n",
    "print('non smoker avg charge', non_smoker_charge_avg)\n",
    "\n",
    "# patients = list()\n",
    "\n",
    "# with open('insurance.csv', newline='') as file:\n",
    "#   reader = csv.DictReader(file, delimiter=',')\n",
    "#   for row in reader:\n",
    "#     patients.append(row)\n",
    "\n",
    "# all_patient_charges = [\n",
    "#   float(patient[\"charges\"]) for patient in patients if patient[\"smoker\"] == \"no\"\n",
    "# ]\n",
    "# all_smoking_patient_charges = [\n",
    "#   float(patient[\"charges\"]) for patient in patients if patient[\"smoker\"] == \"yes\" \n",
    "# ]\n",
    "\n",
    "# average_patient_charge = sum(all_patient_charges) / len(patients)\n",
    "# average_smoking_patient_charge = sum(all_smoking_patient_charges) / len(ages_of_smoking_patients)\n"
   ]
  },
  {
   "cell_type": "markdown",
   "metadata": {},
   "source": [
    "## Average price of all patients vs smoking patients"
   ]
  },
  {
   "cell_type": "code",
   "execution_count": null,
   "metadata": {},
   "outputs": [],
   "source": [
    "print('non-smoker', average_patient_charge)\n",
    "print('smoker', average_smoking_patient_charge)\n",
    "print(abs(average_patient_charge - average_smoking_patient_charge))"
   ]
  }
 ],
 "metadata": {
  "kernelspec": {
   "display_name": "Python 3.9.2 64-bit",
   "metadata": {
    "interpreter": {
     "hash": "ac2eaa0ea0ebeafcc7822e65e46aa9d4f966f30b695406963e145ea4a91cd4fc"
    }
   },
   "name": "python3"
  },
  "language_info": {
   "codemirror_mode": {
    "name": "ipython",
    "version": 3
   },
   "file_extension": ".py",
   "mimetype": "text/x-python",
   "name": "python",
   "nbconvert_exporter": "python",
   "pygments_lexer": "ipython3",
   "version": "3.9.2"
  }
 },
 "nbformat": 4,
 "nbformat_minor": 4
}